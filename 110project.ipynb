{
 "cells": [
  {
   "cell_type": "markdown",
   "source": [
    "**Hypothesis:**\n",
    "1. People who regularly exercise have higher average GPAs.\n",
    "2. People who exercise in the morning get more sleep than those who exercise at evening/night."
   ],
   "metadata": {
    "collapsed": false
   }
  },
  {
   "cell_type": "code",
   "execution_count": 6,
   "outputs": [],
   "source": [
    "import pandas as pd\n",
    "import numpy as np\n",
    "import matplotlib.pyplot as plots\n",
    "import scipy.stats as stats\n",
    "from pandas import DataFrame\n",
    "plots.style.use(\"fast\")"
   ],
   "metadata": {
    "collapsed": false
   }
  },
  {
   "cell_type": "code",
   "execution_count": 114,
   "outputs": [],
   "source": [
    "df = pd.read_csv(\"110project.csv\")\n",
    "df = df.iloc[0:43]\n",
    "\n",
    "h1df = DataFrame(df.iloc[:,[3,12]])\n",
    "h1df.dropna(inplace=True)\n",
    "\n",
    "h2df = DataFrame(df.iloc[:,[6,7]])\n",
    "h2df.dropna(inplace=True)"
   ],
   "metadata": {
    "collapsed": false
   }
  },
  {
   "cell_type": "markdown",
   "source": [
    "# Hypothesis 1"
   ],
   "metadata": {
    "collapsed": false
   }
  },
  {
   "cell_type": "code",
   "execution_count": 18,
   "outputs": [
    {
     "data": {
      "text/plain": "   How long are you physically active during the day? Current GPA\n0                                           1-2 hours           4\n1                                           1-2 hours        3.75\n2                                           1-2 hours        3.79\n3                                           1-2 hours         2.8\n4                                           1-2 hours         3.8\n5                                           1-2 hours         3.8\n6                                           3-4 hours         3.8\n7                                           1-2 hours         3.3\n8                                Negligible (>1 hour)        3.88\n9                                           1-2 hours         3.7\n10                                          1-2 hours        3.68\n11                               Negligible (>1 hour)         3.7\n12                                  More than 4 hours           3\n13                                          1-2 hours           4\n14                                          3-4 hours        3.55\n15                                          3-4 hours         3.9\n16                                          1-2 hours        3.85\n17                               Negligible (>1 hour)        3.78\n18                               Negligible (>1 hour)        3.71\n19                                          1-2 hours         3.5\n20                                          3-4 hours         3.6\n21                                          3-4 hours         3.9\n22                                          3-4 hours         3.2\n23                                          1-2 hours           4\n24                                          3-4 hours         3.6\n25                                          3-4 hours        3.68\n26                                          1-2 hours         3.6\n27                                          3-4 hours         2.7\n28                                          3-4 hours        3.71\n29                                          1-2 hours        3.45\n30                                          1-2 hours         3.4\n31                                          1-2 hours           4\n32                                          3-4 hours         3.2\n33                                          1-2 hours        3.85\n34                                          1/2 hour         3.84\n35                                          3-4 hours        3.75\n36                                          3-4 hours        3.93\n37                                          3-4 hours        3.75\n38                                          1-2 hours        3.93\n39                                          1-2 hours         3.5\n40                                          1-2 hours         3.5",
      "text/html": "<div>\n<style scoped>\n    .dataframe tbody tr th:only-of-type {\n        vertical-align: middle;\n    }\n\n    .dataframe tbody tr th {\n        vertical-align: top;\n    }\n\n    .dataframe thead th {\n        text-align: right;\n    }\n</style>\n<table border=\"1\" class=\"dataframe\">\n  <thead>\n    <tr style=\"text-align: right;\">\n      <th></th>\n      <th>How long are you physically active during the day?</th>\n      <th>Current GPA</th>\n    </tr>\n  </thead>\n  <tbody>\n    <tr>\n      <th>0</th>\n      <td>1-2 hours</td>\n      <td>4</td>\n    </tr>\n    <tr>\n      <th>1</th>\n      <td>1-2 hours</td>\n      <td>3.75</td>\n    </tr>\n    <tr>\n      <th>2</th>\n      <td>1-2 hours</td>\n      <td>3.79</td>\n    </tr>\n    <tr>\n      <th>3</th>\n      <td>1-2 hours</td>\n      <td>2.8</td>\n    </tr>\n    <tr>\n      <th>4</th>\n      <td>1-2 hours</td>\n      <td>3.8</td>\n    </tr>\n    <tr>\n      <th>5</th>\n      <td>1-2 hours</td>\n      <td>3.8</td>\n    </tr>\n    <tr>\n      <th>6</th>\n      <td>3-4 hours</td>\n      <td>3.8</td>\n    </tr>\n    <tr>\n      <th>7</th>\n      <td>1-2 hours</td>\n      <td>3.3</td>\n    </tr>\n    <tr>\n      <th>8</th>\n      <td>Negligible (&gt;1 hour)</td>\n      <td>3.88</td>\n    </tr>\n    <tr>\n      <th>9</th>\n      <td>1-2 hours</td>\n      <td>3.7</td>\n    </tr>\n    <tr>\n      <th>10</th>\n      <td>1-2 hours</td>\n      <td>3.68</td>\n    </tr>\n    <tr>\n      <th>11</th>\n      <td>Negligible (&gt;1 hour)</td>\n      <td>3.7</td>\n    </tr>\n    <tr>\n      <th>12</th>\n      <td>More than 4 hours</td>\n      <td>3</td>\n    </tr>\n    <tr>\n      <th>13</th>\n      <td>1-2 hours</td>\n      <td>4</td>\n    </tr>\n    <tr>\n      <th>14</th>\n      <td>3-4 hours</td>\n      <td>3.55</td>\n    </tr>\n    <tr>\n      <th>15</th>\n      <td>3-4 hours</td>\n      <td>3.9</td>\n    </tr>\n    <tr>\n      <th>16</th>\n      <td>1-2 hours</td>\n      <td>3.85</td>\n    </tr>\n    <tr>\n      <th>17</th>\n      <td>Negligible (&gt;1 hour)</td>\n      <td>3.78</td>\n    </tr>\n    <tr>\n      <th>18</th>\n      <td>Negligible (&gt;1 hour)</td>\n      <td>3.71</td>\n    </tr>\n    <tr>\n      <th>19</th>\n      <td>1-2 hours</td>\n      <td>3.5</td>\n    </tr>\n    <tr>\n      <th>20</th>\n      <td>3-4 hours</td>\n      <td>3.6</td>\n    </tr>\n    <tr>\n      <th>21</th>\n      <td>3-4 hours</td>\n      <td>3.9</td>\n    </tr>\n    <tr>\n      <th>22</th>\n      <td>3-4 hours</td>\n      <td>3.2</td>\n    </tr>\n    <tr>\n      <th>23</th>\n      <td>1-2 hours</td>\n      <td>4</td>\n    </tr>\n    <tr>\n      <th>24</th>\n      <td>3-4 hours</td>\n      <td>3.6</td>\n    </tr>\n    <tr>\n      <th>25</th>\n      <td>3-4 hours</td>\n      <td>3.68</td>\n    </tr>\n    <tr>\n      <th>26</th>\n      <td>1-2 hours</td>\n      <td>3.6</td>\n    </tr>\n    <tr>\n      <th>27</th>\n      <td>3-4 hours</td>\n      <td>2.7</td>\n    </tr>\n    <tr>\n      <th>28</th>\n      <td>3-4 hours</td>\n      <td>3.71</td>\n    </tr>\n    <tr>\n      <th>29</th>\n      <td>1-2 hours</td>\n      <td>3.45</td>\n    </tr>\n    <tr>\n      <th>30</th>\n      <td>1-2 hours</td>\n      <td>3.4</td>\n    </tr>\n    <tr>\n      <th>31</th>\n      <td>1-2 hours</td>\n      <td>4</td>\n    </tr>\n    <tr>\n      <th>32</th>\n      <td>3-4 hours</td>\n      <td>3.2</td>\n    </tr>\n    <tr>\n      <th>33</th>\n      <td>1-2 hours</td>\n      <td>3.85</td>\n    </tr>\n    <tr>\n      <th>34</th>\n      <td>1/2 hour</td>\n      <td>3.84</td>\n    </tr>\n    <tr>\n      <th>35</th>\n      <td>3-4 hours</td>\n      <td>3.75</td>\n    </tr>\n    <tr>\n      <th>36</th>\n      <td>3-4 hours</td>\n      <td>3.93</td>\n    </tr>\n    <tr>\n      <th>37</th>\n      <td>3-4 hours</td>\n      <td>3.75</td>\n    </tr>\n    <tr>\n      <th>38</th>\n      <td>1-2 hours</td>\n      <td>3.93</td>\n    </tr>\n    <tr>\n      <th>39</th>\n      <td>1-2 hours</td>\n      <td>3.5</td>\n    </tr>\n    <tr>\n      <th>40</th>\n      <td>1-2 hours</td>\n      <td>3.5</td>\n    </tr>\n  </tbody>\n</table>\n</div>"
     },
     "execution_count": 18,
     "metadata": {},
     "output_type": "execute_result"
    }
   ],
   "source": [
    "# Hypothesis 1\n",
    "# null_hypothesis: regular exercise does not affect GPA\n",
    "# alt_hypothesis: students who regularly exercise have a higher GPA on average\n",
    "#\n",
    "# test_stat_null: list of all GPAs, n=41, random sample\n",
    "# test_stat_alt: list of regular exercise (>2 hrs) GPAs, n=41, bootstrap sample\n",
    "\n",
    "h1df"
   ],
   "metadata": {
    "collapsed": false
   }
  },
  {
   "cell_type": "code",
   "execution_count": 96,
   "outputs": [],
   "source": [
    "h1df = h1df.replace({\"Negligible (>1 hour)\": 0, \"1/2 hour \": 1, \"1-2 hours\": 2, \"3-4 hours\": 3, \"More than 4 hours\": 4})\n",
    "h1df.columns = [\"Hours\", \"GPA\"]\n",
    "h1df[\"GPA\"] = h1df[\"GPA\"].astype(float)\n",
    "\n",
    "# Approximately normal (graph is funky, but I would assume this to be normal)\n",
    "#h1df[\"Hours\"].hist()\n",
    "#h1df[\"GPA\"].hist()"
   ],
   "metadata": {
    "collapsed": false
   }
  },
  {
   "cell_type": "code",
   "execution_count": 84,
   "outputs": [],
   "source": [
    "h1df_simulated = h1df[h1df[\"Hours\"] > 2]\n",
    "h1df_simulated = h1df_simulated.sample(41, replace=True)"
   ],
   "metadata": {
    "collapsed": false
   }
  },
  {
   "cell_type": "code",
   "execution_count": 94,
   "outputs": [
    {
     "name": "stdout",
     "output_type": "stream",
     "text": [
      "All Mean GPA: 3.643414634146342\n"
     ]
    },
    {
     "data": {
      "text/plain": "<Figure size 640x480 with 1 Axes>",
      "image/png": "[encoded data removed]"
     },
     "metadata": {},
     "output_type": "display_data"
    }
   ],
   "source": [
    "plots.hist(h1df[\"GPA\"])\n",
    "print(\"All Mean GPA: \" + str(np.mean(h1df[\"GPA\"])))"
   ],
   "metadata": {
    "collapsed": false
   }
  },
  {
   "cell_type": "code",
   "execution_count": 95,
   "outputs": [
    {
     "name": "stdout",
     "output_type": "stream",
     "text": [
      "Reg. Exercise Mean GPA: 3.7909756097560985\n"
     ]
    },
    {
     "data": {
      "text/plain": "<Figure size 640x480 with 1 Axes>",
      "image/png": "[encoded data removed]"
     },
     "metadata": {},
     "output_type": "display_data"
    }
   ],
   "source": [
    "plots.hist(h1df_simulated[\"GPA\"])\n",
    "print(\"Reg. Exercise Mean GPA: \" + str(np.mean(h1df_simulated[\"GPA\"])))"
   ],
   "metadata": {
    "collapsed": false
   }
  },
  {
   "cell_type": "code",
   "execution_count": 86,
   "outputs": [
    {
     "data": {
      "text/plain": "0.013823022697401455"
     },
     "execution_count": 86,
     "metadata": {},
     "output_type": "execute_result"
    }
   ],
   "source": [
    "t, p = stats.ttest_ind(h1df[\"GPA\"], h1df_simulated[\"GPA\"])\n",
    "p"
   ],
   "metadata": {
    "collapsed": false
   }
  },
  {
   "cell_type": "markdown",
   "source": [
    "At p=0.01382 and a=0.05, we reject the null hypothesis."
   ],
   "metadata": {
    "collapsed": false
   }
  },
  {
   "cell_type": "markdown",
   "source": [
    "# Hypothesis 2"
   ],
   "metadata": {
    "collapsed": false
   }
  },
  {
   "cell_type": "code",
   "execution_count": 97,
   "outputs": [
    {
     "data": {
      "text/plain": "   At what time do you workout on a daily basis?  \\\n0                                        Evening   \n1                               Varies every day   \n2                               Varies every day   \n3                                      Afternoon   \n4                                        Evening   \n5                               Varies every day   \n6                                      Afternoon   \n7                                        Morning   \n8                               Varies every day   \n9                               Varies every day   \n10                              Varies every day   \n12                              Varies every day   \n13                                       Evening   \n14                              Varies every day   \n15                                       Morning   \n16                              Varies every day   \n17                                       Morning   \n18                                         never   \n19                              Varies every day   \n20                                       Morning   \n21                                     Afternoon   \n22                              Varies every day   \n23                              Varies every day   \n24                                       Morning   \n25                                     Afternoon   \n26                                       Morning   \n27                              Varies every day   \n28                                    Night time   \n29                              Varies every day   \n30                                       Evening   \n31                              Varies every day   \n32                                    Night time   \n33                                       Evening   \n34                                    Night time   \n35                                       Evening   \n36                             i dont work out 😭   \n37                              Varies every day   \n38                                    Night time   \n39                              Varies every day   \n40                              Varies every day   \n\n   How many hours of sleep do you get on average each night?  \n0                                                   6         \n1                                                   8         \n2                                                   7         \n3                                                   8         \n4                                                   6         \n5                                                   8         \n6                                                   7         \n7                                                   7         \n8                                                   7         \n9                                                   8         \n10                                                  8         \n12                                                  8         \n13                                                  8         \n14                                                  7         \n15                                                  7         \n16                                                  8         \n17                                                  7         \n18                                                  4         \n19                                                  6         \n20                                                  7         \n21                                                6.5         \n22                                                  8         \n23                                                  8         \n24                                                  8         \n25                                                  8         \n26                                                  6         \n27                                                7.5         \n28                                                  7         \n29                                                  7         \n30                                                  8         \n31                                                  8         \n32                                                  5         \n33                                                  8         \n34                                                  7         \n35                                                  7         \n36                                                  7         \n37                                                  7         \n38                                                  7         \n39                                                  7         \n40                                                  8         ",
      "text/html": "<div>\n<style scoped>\n    .dataframe tbody tr th:only-of-type {\n        vertical-align: middle;\n    }\n\n    .dataframe tbody tr th {\n        vertical-align: top;\n    }\n\n    .dataframe thead th {\n        text-align: right;\n    }\n</style>\n<table border=\"1\" class=\"dataframe\">\n  <thead>\n    <tr style=\"text-align: right;\">\n      <th></th>\n      <th>At what time do you workout on a daily basis?</th>\n      <th>How many hours of sleep do you get on average each night?</th>\n    </tr>\n  </thead>\n  <tbody>\n    <tr>\n      <th>0</th>\n      <td>Evening</td>\n      <td>6</td>\n    </tr>\n    <tr>\n      <th>1</th>\n      <td>Varies every day</td>\n      <td>8</td>\n    </tr>\n    <tr>\n      <th>2</th>\n      <td>Varies every day</td>\n      <td>7</td>\n    </tr>\n    <tr>\n      <th>3</th>\n      <td>Afternoon</td>\n      <td>8</td>\n    </tr>\n    <tr>\n      <th>4</th>\n      <td>Evening</td>\n      <td>6</td>\n    </tr>\n    <tr>\n      <th>5</th>\n      <td>Varies every day</td>\n      <td>8</td>\n    </tr>\n    <tr>\n      <th>6</th>\n      <td>Afternoon</td>\n      <td>7</td>\n    </tr>\n    <tr>\n      <th>7</th>\n      <td>Morning</td>\n      <td>7</td>\n    </tr>\n    <tr>\n      <th>8</th>\n      <td>Varies every day</td>\n      <td>7</td>\n    </tr>\n    <tr>\n      <th>9</th>\n      <td>Varies every day</td>\n      <td>8</td>\n    </tr>\n    <tr>\n      <th>10</th>\n      <td>Varies every day</td>\n      <td>8</td>\n    </tr>\n    <tr>\n      <th>12</th>\n      <td>Varies every day</td>\n      <td>8</td>\n    </tr>\n    <tr>\n      <th>13</th>\n      <td>Evening</td>\n      <td>8</td>\n    </tr>\n    <tr>\n      <th>14</th>\n      <td>Varies every day</td>\n      <td>7</td>\n    </tr>\n    <tr>\n      <th>15</th>\n      <td>Morning</td>\n      <td>7</td>\n    </tr>\n    <tr>\n      <th>16</th>\n      <td>Varies every day</td>\n      <td>8</td>\n    </tr>\n    <tr>\n      <th>17</th>\n      <td>Morning</td>\n      <td>7</td>\n    </tr>\n    <tr>\n      <th>18</th>\n      <td>never</td>\n      <td>4</td>\n    </tr>\n    <tr>\n      <th>19</th>\n      <td>Varies every day</td>\n      <td>6</td>\n    </tr>\n    <tr>\n      <th>20</th>\n      <td>Morning</td>\n      <td>7</td>\n    </tr>\n    <tr>\n      <th>21</th>\n      <td>Afternoon</td>\n      <td>6.5</td>\n    </tr>\n    <tr>\n      <th>22</th>\n      <td>Varies every day</td>\n      <td>8</td>\n    </tr>\n    <tr>\n      <th>23</th>\n      <td>Varies every day</td>\n      <td>8</td>\n    </tr>\n    <tr>\n      <th>24</th>\n      <td>Morning</td>\n      <td>8</td>\n    </tr>\n    <tr>\n      <th>25</th>\n      <td>Afternoon</td>\n      <td>8</td>\n    </tr>\n    <tr>\n      <th>26</th>\n      <td>Morning</td>\n      <td>6</td>\n    </tr>\n    <tr>\n      <th>27</th>\n      <td>Varies every day</td>\n      <td>7.5</td>\n    </tr>\n    <tr>\n      <th>28</th>\n      <td>Night time</td>\n      <td>7</td>\n    </tr>\n    <tr>\n      <th>29</th>\n      <td>Varies every day</td>\n      <td>7</td>\n    </tr>\n    <tr>\n      <th>30</th>\n      <td>Evening</td>\n      <td>8</td>\n    </tr>\n    <tr>\n      <th>31</th>\n      <td>Varies every day</td>\n      <td>8</td>\n    </tr>\n    <tr>\n      <th>32</th>\n      <td>Night time</td>\n      <td>5</td>\n    </tr>\n    <tr>\n      <th>33</th>\n      <td>Evening</td>\n      <td>8</td>\n    </tr>\n    <tr>\n      <th>34</th>\n      <td>Night time</td>\n      <td>7</td>\n    </tr>\n    <tr>\n      <th>35</th>\n      <td>Evening</td>\n      <td>7</td>\n    </tr>\n    <tr>\n      <th>36</th>\n      <td>i dont work out 😭</td>\n      <td>7</td>\n    </tr>\n    <tr>\n      <th>37</th>\n      <td>Varies every day</td>\n      <td>7</td>\n    </tr>\n    <tr>\n      <th>38</th>\n      <td>Night time</td>\n      <td>7</td>\n    </tr>\n    <tr>\n      <th>39</th>\n      <td>Varies every day</td>\n      <td>7</td>\n    </tr>\n    <tr>\n      <th>40</th>\n      <td>Varies every day</td>\n      <td>8</td>\n    </tr>\n  </tbody>\n</table>\n</div>"
     },
     "execution_count": 97,
     "metadata": {},
     "output_type": "execute_result"
    }
   ],
   "source": [
    "# Hypothesis 2\n",
    "# null_hypothesis: exercise time does not affect amount of sleep\n",
    "# alt_hypothesis: morning exercise increases amount of sleep\n",
    "#\n",
    "# test_stat_null: list of sleep times, n=40, random sample\n",
    "# test_stat_alt: list of morning exerciser sleep times, n=40, bootstrap sample\n",
    "\n",
    "h2df"
   ],
   "metadata": {
    "collapsed": false
   }
  },
  {
   "cell_type": "code",
   "execution_count": 118,
   "outputs": [
    {
     "data": {
      "text/plain": "    Exercise Time  Sleep Hours\n0               3          6.0\n1               0          8.0\n2               0          7.0\n3               2          8.0\n4               3          6.0\n5               0          8.0\n6               2          7.0\n7               1          7.0\n8               0          7.0\n9               0          8.0\n10              0          8.0\n12              0          8.0\n13              3          8.0\n14              0          7.0\n15              1          7.0\n16              0          8.0\n17              1          7.0\n18              0          4.0\n19              0          6.0\n20              1          7.0\n21              2          6.5\n22              0          8.0\n23              0          8.0\n24              1          8.0\n25              2          8.0\n26              1          6.0\n27              0          7.5\n28              4          7.0\n29              0          7.0\n30              3          8.0\n31              0          8.0\n32              4          5.0\n33              3          8.0\n34              4          7.0\n35              3          7.0\n36              0          7.0\n37              0          7.0\n38              4          7.0\n39              0          7.0\n40              0          8.0",
      "text/html": "<div>\n<style scoped>\n    .dataframe tbody tr th:only-of-type {\n        vertical-align: middle;\n    }\n\n    .dataframe tbody tr th {\n        vertical-align: top;\n    }\n\n    .dataframe thead th {\n        text-align: right;\n    }\n</style>\n<table border=\"1\" class=\"dataframe\">\n  <thead>\n    <tr style=\"text-align: right;\">\n      <th></th>\n      <th>Exercise Time</th>\n      <th>Sleep Hours</th>\n    </tr>\n  </thead>\n  <tbody>\n    <tr>\n      <th>0</th>\n      <td>3</td>\n      <td>6.0</td>\n    </tr>\n    <tr>\n      <th>1</th>\n      <td>0</td>\n      <td>8.0</td>\n    </tr>\n    <tr>\n      <th>2</th>\n      <td>0</td>\n      <td>7.0</td>\n    </tr>\n    <tr>\n      <th>3</th>\n      <td>2</td>\n      <td>8.0</td>\n    </tr>\n    <tr>\n      <th>4</th>\n      <td>3</td>\n      <td>6.0</td>\n    </tr>\n    <tr>\n      <th>5</th>\n      <td>0</td>\n      <td>8.0</td>\n    </tr>\n    <tr>\n      <th>6</th>\n      <td>2</td>\n      <td>7.0</td>\n    </tr>\n    <tr>\n      <th>7</th>\n      <td>1</td>\n      <td>7.0</td>\n    </tr>\n    <tr>\n      <th>8</th>\n      <td>0</td>\n      <td>7.0</td>\n    </tr>\n    <tr>\n      <th>9</th>\n      <td>0</td>\n      <td>8.0</td>\n    </tr>\n    <tr>\n      <th>10</th>\n      <td>0</td>\n      <td>8.0</td>\n    </tr>\n    <tr>\n      <th>12</th>\n      <td>0</td>\n      <td>8.0</td>\n    </tr>\n    <tr>\n      <th>13</th>\n      <td>3</td>\n      <td>8.0</td>\n    </tr>\n    <tr>\n      <th>14</th>\n      <td>0</td>\n      <td>7.0</td>\n    </tr>\n    <tr>\n      <th>15</th>\n      <td>1</td>\n      <td>7.0</td>\n    </tr>\n    <tr>\n      <th>16</th>\n      <td>0</td>\n      <td>8.0</td>\n    </tr>\n    <tr>\n      <th>17</th>\n      <td>1</td>\n      <td>7.0</td>\n    </tr>\n    <tr>\n      <th>18</th>\n      <td>0</td>\n      <td>4.0</td>\n    </tr>\n    <tr>\n      <th>19</th>\n      <td>0</td>\n      <td>6.0</td>\n    </tr>\n    <tr>\n      <th>20</th>\n      <td>1</td>\n      <td>7.0</td>\n    </tr>\n    <tr>\n      <th>21</th>\n      <td>2</td>\n      <td>6.5</td>\n    </tr>\n    <tr>\n      <th>22</th>\n      <td>0</td>\n      <td>8.0</td>\n    </tr>\n    <tr>\n      <th>23</th>\n      <td>0</td>\n      <td>8.0</td>\n    </tr>\n    <tr>\n      <th>24</th>\n      <td>1</td>\n      <td>8.0</td>\n    </tr>\n    <tr>\n      <th>25</th>\n      <td>2</td>\n      <td>8.0</td>\n    </tr>\n    <tr>\n      <th>26</th>\n      <td>1</td>\n      <td>6.0</td>\n    </tr>\n    <tr>\n      <th>27</th>\n      <td>0</td>\n      <td>7.5</td>\n    </tr>\n    <tr>\n      <th>28</th>\n      <td>4</td>\n      <td>7.0</td>\n    </tr>\n    <tr>\n      <th>29</th>\n      <td>0</td>\n      <td>7.0</td>\n    </tr>\n    <tr>\n      <th>30</th>\n      <td>3</td>\n      <td>8.0</td>\n    </tr>\n    <tr>\n      <th>31</th>\n      <td>0</td>\n      <td>8.0</td>\n    </tr>\n    <tr>\n      <th>32</th>\n      <td>4</td>\n      <td>5.0</td>\n    </tr>\n    <tr>\n      <th>33</th>\n      <td>3</td>\n      <td>8.0</td>\n    </tr>\n    <tr>\n      <th>34</th>\n      <td>4</td>\n      <td>7.0</td>\n    </tr>\n    <tr>\n      <th>35</th>\n      <td>3</td>\n      <td>7.0</td>\n    </tr>\n    <tr>\n      <th>36</th>\n      <td>0</td>\n      <td>7.0</td>\n    </tr>\n    <tr>\n      <th>37</th>\n      <td>0</td>\n      <td>7.0</td>\n    </tr>\n    <tr>\n      <th>38</th>\n      <td>4</td>\n      <td>7.0</td>\n    </tr>\n    <tr>\n      <th>39</th>\n      <td>0</td>\n      <td>7.0</td>\n    </tr>\n    <tr>\n      <th>40</th>\n      <td>0</td>\n      <td>8.0</td>\n    </tr>\n  </tbody>\n</table>\n</div>"
     },
     "execution_count": 118,
     "metadata": {},
     "output_type": "execute_result"
    }
   ],
   "source": [
    "h2df = h2df.replace({\"Morning\": 1, \"Afternoon\": 2, \"Evening\": 3, \"Night time\": 4})\n",
    "h2df.columns = [\"Exercise Time\", \"Sleep Hours\"]\n",
    "h2df[\"Exercise Time\"] = pd.to_numeric(h2df[\"Exercise Time\"], errors ='coerce').fillna(0).astype('int')\n",
    "h2df[\"Sleep Hours\"] = h2df[\"Sleep Hours\"].astype(float)\n",
    "h2df"
   ],
   "metadata": {
    "collapsed": false
   }
  },
  {
   "cell_type": "code",
   "execution_count": 119,
   "outputs": [],
   "source": [
    "h2df_simulated = h2df[h2df[\"Exercise Time\"] == 1]\n",
    "h2df_simulated = h2df_simulated.sample(40, replace=True)"
   ],
   "metadata": {
    "collapsed": false
   }
  },
  {
   "cell_type": "code",
   "execution_count": 120,
   "outputs": [
    {
     "name": "stdout",
     "output_type": "stream",
     "text": [
      "All Mean Sleep Hours: 7.175\n"
     ]
    },
    {
     "data": {
      "text/plain": "<Figure size 640x480 with 1 Axes>",
      "image/png": "[encoded data removed]"
     },
     "metadata": {},
     "output_type": "display_data"
    }
   ],
   "source": [
    "plots.hist(h2df[\"Sleep Hours\"])\n",
    "print(\"All Mean Sleep Hours: \" + str(np.mean(h2df[\"Sleep Hours\"])))"
   ],
   "metadata": {
    "collapsed": false
   }
  },
  {
   "cell_type": "code",
   "execution_count": 121,
   "outputs": [
    {
     "name": "stdout",
     "output_type": "stream",
     "text": [
      "Morning Exercise Mean Sleep Hours: 6.975\n"
     ]
    },
    {
     "data": {
      "text/plain": "<Figure size 640x480 with 1 Axes>",
      "image/png": "[encoded data removed]"
     },
     "metadata": {},
     "output_type": "display_data"
    }
   ],
   "source": [
    "plots.hist(h2df_simulated[\"Sleep Hours\"])\n",
    "print(\"Morning Exercise Mean Sleep Hours: \" + str(np.mean(h2df_simulated[\"Sleep Hours\"])))"
   ],
   "metadata": {
    "collapsed": false
   }
  },
  {
   "cell_type": "code",
   "execution_count": 122,
   "outputs": [
    {
     "data": {
      "text/plain": "0.24384347867024167"
     },
     "execution_count": 122,
     "metadata": {},
     "output_type": "execute_result"
    }
   ],
   "source": [
    "t, p = stats.ttest_ind(h2df[\"Sleep Hours\"], h2df_simulated[\"Sleep Hours\"])\n",
    "p"
   ],
   "metadata": {
    "collapsed": false
   }
  },
  {
   "cell_type": "markdown",
   "source": [
    "At p=0.24384 and a=0.05, we fail to reject the null hypothesis."
   ],
   "metadata": {
    "collapsed": false
   }
  }
 ],
 "metadata": {
  "kernelspec": {
   "display_name": "Python 3",
   "language": "python",
   "name": "python3"
  },
  "language_info": {
   "codemirror_mode": {
    "name": "ipython",
    "version": 2
   },
   "file_extension": ".py",
   "mimetype": "text/x-python",
   "name": "python",
   "nbconvert_exporter": "python",
   "pygments_lexer": "ipython2",
   "version": "2.7.6"
  }
 },
 "nbformat": 4,
 "nbformat_minor": 0
}
